{
 "cells": [
  {
   "cell_type": "markdown",
   "id": "d0a5f77b",
   "metadata": {},
   "source": [
    "# Data Generation"
   ]
  },
  {
   "cell_type": "markdown",
   "id": "e552a82d",
   "metadata": {},
   "source": [
    "## Import Packages"
   ]
  },
  {
   "cell_type": "code",
   "execution_count": 6,
   "id": "5f73f542",
   "metadata": {},
   "outputs": [],
   "source": [
    "import numpy as np\n",
    "import scipy\n",
    "from scipy.stats import norm\n",
    "import pandapower as pp\n",
    "import pandas as pd\n",
    "import pandapower.networks\n",
    "import tensorflow as tf\n",
    "import csv\n",
    "import torch"
   ]
  },
  {
   "cell_type": "markdown",
   "id": "e41f9eb5",
   "metadata": {},
   "source": [
    "## Input Data"
   ]
  },
  {
   "cell_type": "code",
   "execution_count": 7,
   "id": "aecc4013",
   "metadata": {},
   "outputs": [],
   "source": [
    "case = pp.networks.case9()\n",
    "number_of_bus = case.bus.shape[0]\n",
    "baseMVA = 100\n",
    "\n",
    "number_of_data = 2500       # Including data for both Training and Testing\n",
    "number_of_training_data = 2000\n",
    "number_of_test_data = np.subtract(number_of_data,number_of_training_data)\n",
    "\n",
    "load = case.load.iloc[:,6:8]\n",
    "load_bus_number = case.load.iloc[:,0]\n",
    "\n",
    "Pgenerators = np.zeros((number_of_bus,1))\n",
    "Pgenerators[case.gen.iloc[:,0],0] = -case.gen.iloc[:,4]\n",
    "\n",
    "PQload = np.zeros((number_of_bus,2))\n",
    "PQload[case.load.iloc[:,0],:] = case.load.iloc[:,6:8]\n",
    "\n",
    "\n",
    "\n",
    "### NB FB TB R X PL QL PG QG V Delta\n",
    "\n",
    "Data_form = np.hstack(((np.array(case.bus_geodata.iloc[:,0:2])),\\\n",
    "                       PQload,Pgenerators))"
   ]
  },
  {
   "cell_type": "markdown",
   "id": "e42d984d",
   "metadata": {},
   "source": [
    "## Roulette Wheel Algorithm Using Normal-PDF to Generate Scenarios"
   ]
  },
  {
   "cell_type": "code",
   "execution_count": 8,
   "id": "57212f1a",
   "metadata": {},
   "outputs": [],
   "source": [
    "Scenario = np.zeros([number_of_data,Data_form.shape[0],Data_form.shape[1]])\n",
    "\n",
    "for i in range(number_of_data):\n",
    "    \n",
    "    Scenario[i,:,:] = Data_form\n",
    "    Scenario[i,load_bus_number,2:4] = norm.ppf(np.random.rand(load.shape[0],1),\\\n",
    "                                                              load,np.multiply(0.1,load))\n",
    "\n",
    "Training_Data = Scenario[0:number_of_training_data,:,:]\n",
    "Test_Data = Scenario[number_of_training_data:,:,:]\n",
    "\n",
    "\n"
   ]
  },
  {
   "cell_type": "markdown",
   "id": "87632a13",
   "metadata": {},
   "source": [
    "## Implement Power Flow to Get Labels"
   ]
  },
  {
   "cell_type": "code",
   "execution_count": 9,
   "id": "3aad4be8",
   "metadata": {},
   "outputs": [],
   "source": [
    "Label = np.zeros((number_of_data,number_of_bus,2))\n",
    "\n",
    "for i in range(number_of_data):\n",
    "    \n",
    "    case.load.iloc[:,6:8] = Scenario[i,case.load.iloc[:,0],2:4]\n",
    "    \n",
    "    pp.runpp(case, algorithm='nr', calculate_voltage_angles='auto', init='auto',\\\n",
    "                  max_iteration='auto', tolerance_mva=1e-08, trafo_model='t',\\\n",
    "                  trafo_loading='current', enforce_q_lims=False,\\\n",
    "                  check_connectivity=True, voltage_depend_loads=True,\\\n",
    "                 consider_line_temperature=False)\n",
    "    \n",
    "    Label[i,:,:] = case.res_bus.iloc[:,0:2]\n",
    "    \n",
    "Training_Label = Label[0:number_of_training_data,:,:]\n",
    "Test_Label = Label[number_of_training_data:,:,:]\n"
   ]
  },
  {
   "cell_type": "markdown",
   "id": "30e59cf0",
   "metadata": {},
   "source": [
    "## Export Data"
   ]
  },
  {
   "cell_type": "code",
   "execution_count": 130,
   "id": "0c1d48f9",
   "metadata": {},
   "outputs": [],
   "source": [
    "Final_Training_Data = pd.DataFrame(Training_Data.reshape(number_of_training_data,-1))\n",
    "Final_Training_Label  = pd.DataFrame(Training_Label.reshape(number_of_training_data,-1))\n",
    "Final_Training_Data.to_csv(\"C:/Users/adria/OneDrive/Desktop/DataGeneration/train_data.csv\",index = False)\n",
    "Final_Training_Label.to_csv(\"C:/Users/adria/OneDrive/Desktop/DataGeneration/train_label.csv\",index = False)\n",
    "\n",
    "Final_Test_Data   = pd.DataFrame(Test_Data.reshape(number_of_test_data,-1))\n",
    "Final_Test_Label  = pd.DataFrame(Test_Label.reshape(number_of_test_data,-1))\n",
    "Final_Test_Data.to_csv(\"C:/Users/adria/OneDrive/Desktop/DataGeneration/test_data.csv\",index = False)\n",
    "Final_Test_Label.to_csv(\"C:/Users/adria/OneDrive/Desktop/DataGeneration/test_label.csv\",index = False)\n",
    "\n",
    "\n"
   ]
  },
  {
   "cell_type": "code",
   "execution_count": 10,
   "id": "8e4e1aa2",
   "metadata": {},
   "outputs": [
    {
     "data": {
      "text/plain": [
       "This pandapower network includes the following parameter tables:\n",
       "   - bus (9 elements)\n",
       "   - load (3 elements)\n",
       "   - gen (2 elements)\n",
       "   - ext_grid (1 element)\n",
       "   - line (9 elements)\n",
       "   - poly_cost (3 elements)\n",
       "   - bus_geodata (9 elements)\n",
       " and the following results tables:\n",
       "   - res_bus (9 elements)\n",
       "   - res_line (9 elements)\n",
       "   - res_ext_grid (1 element)\n",
       "   - res_load (3 elements)\n",
       "   - res_gen (2 elements)"
      ]
     },
     "execution_count": 10,
     "metadata": {},
     "output_type": "execute_result"
    }
   ],
   "source": [
    "case"
   ]
  },
  {
   "cell_type": "code",
   "execution_count": 17,
   "id": "5a122cf7",
   "metadata": {},
   "outputs": [
    {
     "data": {
      "text/html": [
       "<div>\n",
       "<style scoped>\n",
       "    .dataframe tbody tr th:only-of-type {\n",
       "        vertical-align: middle;\n",
       "    }\n",
       "\n",
       "    .dataframe tbody tr th {\n",
       "        vertical-align: top;\n",
       "    }\n",
       "\n",
       "    .dataframe thead th {\n",
       "        text-align: right;\n",
       "    }\n",
       "</style>\n",
       "<table border=\"1\" class=\"dataframe\">\n",
       "  <thead>\n",
       "    <tr style=\"text-align: right;\">\n",
       "      <th></th>\n",
       "      <th>vm_pu</th>\n",
       "      <th>va_degree</th>\n",
       "      <th>p_mw</th>\n",
       "      <th>q_mvar</th>\n",
       "    </tr>\n",
       "  </thead>\n",
       "  <tbody>\n",
       "    <tr>\n",
       "      <th>0</th>\n",
       "      <td>1.000000</td>\n",
       "      <td>0.000000</td>\n",
       "      <td>-63.941830</td>\n",
       "      <td>-20.699227</td>\n",
       "    </tr>\n",
       "    <tr>\n",
       "      <th>1</th>\n",
       "      <td>1.000000</td>\n",
       "      <td>9.865960</td>\n",
       "      <td>-163.000000</td>\n",
       "      <td>-14.382162</td>\n",
       "    </tr>\n",
       "    <tr>\n",
       "      <th>2</th>\n",
       "      <td>1.000000</td>\n",
       "      <td>5.132262</td>\n",
       "      <td>-85.000000</td>\n",
       "      <td>5.029489</td>\n",
       "    </tr>\n",
       "    <tr>\n",
       "      <th>3</th>\n",
       "      <td>0.988763</td>\n",
       "      <td>-2.134707</td>\n",
       "      <td>0.000000</td>\n",
       "      <td>0.000000</td>\n",
       "    </tr>\n",
       "    <tr>\n",
       "      <th>4</th>\n",
       "      <td>0.981167</td>\n",
       "      <td>-3.319419</td>\n",
       "      <td>78.590232</td>\n",
       "      <td>26.196744</td>\n",
       "    </tr>\n",
       "    <tr>\n",
       "      <th>5</th>\n",
       "      <td>1.004183</td>\n",
       "      <td>2.289082</td>\n",
       "      <td>0.000000</td>\n",
       "      <td>0.000000</td>\n",
       "    </tr>\n",
       "    <tr>\n",
       "      <th>6</th>\n",
       "      <td>0.985085</td>\n",
       "      <td>0.787180</td>\n",
       "      <td>104.290192</td>\n",
       "      <td>36.501567</td>\n",
       "    </tr>\n",
       "    <tr>\n",
       "      <th>7</th>\n",
       "      <td>0.996234</td>\n",
       "      <td>3.996625</td>\n",
       "      <td>0.000000</td>\n",
       "      <td>0.000000</td>\n",
       "    </tr>\n",
       "    <tr>\n",
       "      <th>8</th>\n",
       "      <td>0.959163</td>\n",
       "      <td>-4.076505</td>\n",
       "      <td>124.373012</td>\n",
       "      <td>49.749205</td>\n",
       "    </tr>\n",
       "  </tbody>\n",
       "</table>\n",
       "</div>"
      ],
      "text/plain": [
       "      vm_pu  va_degree        p_mw     q_mvar\n",
       "0  1.000000   0.000000  -63.941830 -20.699227\n",
       "1  1.000000   9.865960 -163.000000 -14.382162\n",
       "2  1.000000   5.132262  -85.000000   5.029489\n",
       "3  0.988763  -2.134707    0.000000   0.000000\n",
       "4  0.981167  -3.319419   78.590232  26.196744\n",
       "5  1.004183   2.289082    0.000000   0.000000\n",
       "6  0.985085   0.787180  104.290192  36.501567\n",
       "7  0.996234   3.996625    0.000000   0.000000\n",
       "8  0.959163  -4.076505  124.373012  49.749205"
      ]
     },
     "execution_count": 17,
     "metadata": {},
     "output_type": "execute_result"
    }
   ],
   "source": [
    "case.res_bus"
   ]
  },
  {
   "cell_type": "code",
   "execution_count": 16,
   "id": "84fc5258",
   "metadata": {},
   "outputs": [
    {
     "data": {
      "text/html": [
       "<div>\n",
       "<style scoped>\n",
       "    .dataframe tbody tr th:only-of-type {\n",
       "        vertical-align: middle;\n",
       "    }\n",
       "\n",
       "    .dataframe tbody tr th {\n",
       "        vertical-align: top;\n",
       "    }\n",
       "\n",
       "    .dataframe thead th {\n",
       "        text-align: right;\n",
       "    }\n",
       "</style>\n",
       "<table border=\"1\" class=\"dataframe\">\n",
       "  <thead>\n",
       "    <tr style=\"text-align: right;\">\n",
       "      <th></th>\n",
       "      <th>bus</th>\n",
       "      <th>controllable</th>\n",
       "      <th>in_service</th>\n",
       "      <th>name</th>\n",
       "      <th>p_mw</th>\n",
       "      <th>scaling</th>\n",
       "      <th>sn_mva</th>\n",
       "      <th>type</th>\n",
       "      <th>vm_pu</th>\n",
       "      <th>slack</th>\n",
       "      <th>max_p_mw</th>\n",
       "      <th>min_p_mw</th>\n",
       "      <th>max_q_mvar</th>\n",
       "      <th>min_q_mvar</th>\n",
       "      <th>slack_weight</th>\n",
       "    </tr>\n",
       "  </thead>\n",
       "  <tbody>\n",
       "    <tr>\n",
       "      <th>0</th>\n",
       "      <td>1</td>\n",
       "      <td>True</td>\n",
       "      <td>True</td>\n",
       "      <td>None</td>\n",
       "      <td>163.0</td>\n",
       "      <td>1.0</td>\n",
       "      <td>NaN</td>\n",
       "      <td>None</td>\n",
       "      <td>1.0</td>\n",
       "      <td>False</td>\n",
       "      <td>300.0</td>\n",
       "      <td>10.0</td>\n",
       "      <td>300.0</td>\n",
       "      <td>-300.0</td>\n",
       "      <td>0.0</td>\n",
       "    </tr>\n",
       "    <tr>\n",
       "      <th>1</th>\n",
       "      <td>2</td>\n",
       "      <td>True</td>\n",
       "      <td>True</td>\n",
       "      <td>None</td>\n",
       "      <td>85.0</td>\n",
       "      <td>1.0</td>\n",
       "      <td>NaN</td>\n",
       "      <td>None</td>\n",
       "      <td>1.0</td>\n",
       "      <td>False</td>\n",
       "      <td>270.0</td>\n",
       "      <td>10.0</td>\n",
       "      <td>300.0</td>\n",
       "      <td>-300.0</td>\n",
       "      <td>0.0</td>\n",
       "    </tr>\n",
       "  </tbody>\n",
       "</table>\n",
       "</div>"
      ],
      "text/plain": [
       "   bus  controllable  in_service  name   p_mw  scaling  sn_mva  type  vm_pu  \\\n",
       "0    1          True        True  None  163.0      1.0     NaN  None    1.0   \n",
       "1    2          True        True  None   85.0      1.0     NaN  None    1.0   \n",
       "\n",
       "   slack  max_p_mw  min_p_mw  max_q_mvar  min_q_mvar  slack_weight  \n",
       "0  False     300.0      10.0       300.0      -300.0           0.0  \n",
       "1  False     270.0      10.0       300.0      -300.0           0.0  "
      ]
     },
     "execution_count": 16,
     "metadata": {},
     "output_type": "execute_result"
    }
   ],
   "source": [
    "case.gen"
   ]
  },
  {
   "cell_type": "code",
   "execution_count": null,
   "id": "b8ca980f",
   "metadata": {},
   "outputs": [],
   "source": []
  }
 ],
 "metadata": {
  "kernelspec": {
   "display_name": "Python 3 (ipykernel)",
   "language": "python",
   "name": "python3"
  },
  "language_info": {
   "codemirror_mode": {
    "name": "ipython",
    "version": 3
   },
   "file_extension": ".py",
   "mimetype": "text/x-python",
   "name": "python",
   "nbconvert_exporter": "python",
   "pygments_lexer": "ipython3",
   "version": "3.7.11"
  }
 },
 "nbformat": 4,
 "nbformat_minor": 5
}
