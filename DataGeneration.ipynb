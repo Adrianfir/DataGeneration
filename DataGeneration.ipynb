{
 "cells": [
  {
   "cell_type": "markdown",
   "id": "d0a5f77b",
   "metadata": {},
   "source": [
    "# Data Generation (Supervised Learning)"
   ]
  },
  {
   "cell_type": "markdown",
   "id": "e552a82d",
   "metadata": {},
   "source": [
    "## Import Packages"
   ]
  },
  {
   "cell_type": "code",
   "execution_count": 2,
   "id": "5f73f542",
   "metadata": {},
   "outputs": [],
   "source": [
    "import numpy as np\n",
    "import scipy\n",
    "from scipy.stats import norm\n",
    "import pandapower as pp\n",
    "import pandas as pd\n",
    "import pandapower.networks\n",
    "import tensorflow as tf\n",
    "import csv\n",
    "import torch"
   ]
  },
  {
   "cell_type": "markdown",
   "id": "e41f9eb5",
   "metadata": {},
   "source": [
    "## Input Data"
   ]
  },
  {
   "cell_type": "code",
   "execution_count": 3,
   "id": "4e4a3073",
   "metadata": {},
   "outputs": [],
   "source": [
    "case = pp.networks.case30()\n",
    "number_of_bus = case.bus.shape[0]\n",
    "\n",
    "Freq = 50           ## Frequency Hz\n",
    "S_base = 100\n",
    "load_bus_number = case.load.loc[:,'bus']\n",
    "\n",
    "### Z_base\n",
    "\n",
    "V_base = np.zeros((case.line.shape[0],1))\n",
    "for  i in range(case.line.shape[0]):\n",
    "    V_base[i,0] = case.bus.loc[case.bus.index[case.bus.loc[:,'name']==case.line.loc[i,'to_bus']],'vn_kv']\n",
    "\n",
    "Z_base = np.square(V_base)/S_base\n",
    "\n",
    "### Data_form_1: PG PL QL  \n",
    "P_Gen = np.zeros((case.bus.shape[0],1))\n",
    "Load = np.zeros((case.bus.shape[0],2))\n",
    "\n",
    "\n",
    "P_Gen[case.gen.loc[:,'bus']] = np.array([case.gen.loc[:,'p_mw']]).transpose()\n",
    "Load[case.load.loc[:,'bus'],0] = np.array([case.load.loc[:,'p_mw']])\n",
    "Load[case.load.loc[:,'bus'],1] = np.array([case.load.loc[:,'q_mvar']])\n",
    "\n",
    "Data_form_1 = np.hstack((P_Gen,Load))/S_base  \n",
    "\n",
    "           \n",
    "### Data_form_2: R X  \n",
    "\n",
    "R = np.multiply(np.array([case.line.loc[:,'r_ohm_per_km']]),np.array([case.line.loc[:,'length_km']])).transpose()\n",
    "X = np.multiply(np.array([case.line.loc[:,'x_ohm_per_km']]),np.array([case.line.loc[:,'length_km']])).transpose()\n",
    "C = np.multiply(np.array([case.line.loc[:,'c_nf_per_km']]),np.array([case.line.loc[:,'length_km']])).transpose()*1e-9\n",
    "C[C!=0] = 1/(2*np.pi*Freq*C[C!=0])\n",
    "Xc = C\n",
    "\n",
    "Data_form_2 = np.hstack((np.multiply(R,1/Z_base),\\\n",
    "                       np.multiply(X,1/Z_base),\\\n",
    "                        np.multiply(-Xc,1/Z_base)))\n",
    "\n"
   ]
  },
  {
   "cell_type": "markdown",
   "id": "e42d984d",
   "metadata": {},
   "source": [
    "## Roulette Wheel Algorithm Using Normal-PDF to Generate Scenarios"
   ]
  },
  {
   "cell_type": "code",
   "execution_count": 4,
   "id": "57212f1a",
   "metadata": {},
   "outputs": [],
   "source": [
    "number_of_data = 10000       # Including data for both Training and Testing\n",
    "\n",
    "Scenario = np.zeros([number_of_data,Data_form_1.shape[0],Data_form_1.shape[1]])\n",
    "\n",
    "for i in range(number_of_data):\n",
    "    \n",
    "    Scenario[i,:,:] = Data_form_1\n",
    "    Scenario[i,np.unique(np.nonzero(Load)[0]),1:] = norm.ppf(np.random.rand(load_bus_number.shape[0],2),\\\n",
    "                                            Load[np.unique(np.nonzero(Load)[0]),:],\\\n",
    "                                            np.multiply(0.1,Load[np.unique(np.nonzero(Load)[0]),:]))/S_base"
   ]
  },
  {
   "cell_type": "markdown",
   "id": "87632a13",
   "metadata": {},
   "source": [
    "## Implement Power Flow to Get Labels"
   ]
  },
  {
   "cell_type": "code",
   "execution_count": 6,
   "id": "3aad4be8",
   "metadata": {},
   "outputs": [],
   "source": [
    "Label = np.zeros((number_of_data,number_of_bus,2))\n",
    "\n",
    "for i in range(number_of_data):\n",
    "    \n",
    "    case.load.iloc[:,6:8] = Scenario[i,case.load.iloc[:,0],1:]*S_base\n",
    "    \n",
    "    pp.runpp(case, algorithm='nr', calculate_voltage_angles='auto', init='auto',\\\n",
    "                  max_iteration='auto', tolerance_mva=1e-08, trafo_model='t',\\\n",
    "                  trafo_loading='current', enforce_q_lims=False,\\\n",
    "                  check_connectivity=True, voltage_depend_loads=True,\\\n",
    "                 consider_line_temperature=False)\n",
    "    \n",
    "    Label[i,:,:] = case.res_bus.iloc[:,0:2]"
   ]
  },
  {
   "cell_type": "markdown",
   "id": "780b056b",
   "metadata": {},
   "source": [
    "## Exporting Data to CSV files"
   ]
  },
  {
   "cell_type": "code",
   "execution_count": 12,
   "id": "0c1d48f9",
   "metadata": {},
   "outputs": [],
   "source": [
    "Power_Data = pd.DataFrame(Scenario.reshape(number_of_data,-1))\n",
    "Power_Data.to_csv(\"C:/Users/adria/OneDrive/Desktop/DataGeneration/Data_30bus/Dataset_30bus_LoadGeneration.csv\", index = False)\n",
    "\n",
    "Lines_Data = pd.DataFrame(Data_form_2)\n",
    "Power_Data.to_csv(\"C:/Users/adria/OneDrive/Desktop/DataGeneration/Data_30bus/Dataset_30bus_Lines.csv\", index = False)\n",
    "\n",
    "Final_Label = pd.DataFrame(Label.reshape(number_of_data,-1))\n",
    "Final_Label.to_csv(\"C:/Users/adria/OneDrive/Desktop/DataGeneration/Data_30bus/Labels_30bus.csv\", index = False)\n",
    "\n",
    "\n",
    "\n",
    "# Final_Test_Data   = pd.DataFrame(Test_Data.reshape(number_of_test_data,-1))\n",
    "# Final_Test_Label  = pd.DataFrame(Test_Label.reshape(number_of_test_data,-1))\n",
    "# Final_Test_Data.to_csv(\"C:/Users/adria/OneDrive/Desktop/DataGeneration/test_data_30bus.csv\",index = False)\n",
    "# Final_Test_Label.to_csv(\"C:/Users/adria/OneDrive/Desktop/DataGeneration/test_label_30bus.csv\",index = False)"
   ]
  },
  {
   "cell_type": "code",
   "execution_count": null,
   "id": "6ece7dcd",
   "metadata": {},
   "outputs": [],
   "source": []
  }
 ],
 "metadata": {
  "kernelspec": {
   "display_name": "Python 3 (ipykernel)",
   "language": "python",
   "name": "python3"
  },
  "language_info": {
   "codemirror_mode": {
    "name": "ipython",
    "version": 3
   },
   "file_extension": ".py",
   "mimetype": "text/x-python",
   "name": "python",
   "nbconvert_exporter": "python",
   "pygments_lexer": "ipython3",
   "version": "3.7.11"
  }
 },
 "nbformat": 4,
 "nbformat_minor": 5
}
