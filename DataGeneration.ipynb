{
 "cells": [
  {
   "cell_type": "markdown",
   "id": "d0a5f77b",
   "metadata": {},
   "source": [
    "# Data Generation (Supervised Learning)"
   ]
  },
  {
   "cell_type": "markdown",
   "id": "e552a82d",
   "metadata": {},
   "source": [
    "## Import Packages"
   ]
  },
  {
   "cell_type": "code",
   "execution_count": 1,
   "id": "5f73f542",
   "metadata": {},
   "outputs": [],
   "source": [
    "import numpy as np\n",
    "import scipy\n",
    "from scipy.stats import norm\n",
    "import pandapower as pp\n",
    "import pandas as pd\n",
    "import pandapower.networks\n",
    "import tensorflow as tf\n",
    "import csv\n",
    "import torch"
   ]
  },
  {
   "cell_type": "markdown",
   "id": "e41f9eb5",
   "metadata": {},
   "source": [
    "## Input Data"
   ]
  },
  {
   "cell_type": "code",
   "execution_count": 111,
   "id": "4e4a3073",
   "metadata": {},
   "outputs": [],
   "source": [
    "case = pp.networks.case30()\n",
    "number_of_bus = case.bus.shape[0]\n",
    "\n",
    "Freq = 50           ## Frequency Hz\n",
    "S_base = 100\n",
    "load_bus_number = case.load.loc[:,'bus']\n",
    "\n",
    "### Z_base\n",
    "\n",
    "V_base = np.zeros((case.line.shape[0],1))\n",
    "for  i in range(case.line.shape[0]):\n",
    "    V_base[i,0] = case.bus.loc[case.bus.index[case.bus.loc[:,'name']==case.line.loc[i,'to_bus']],'vn_kv']\n",
    "\n",
    "Z_base = np.square(V_base)/S_base\n",
    "\n",
    "### Data_form_1: PL QL PG \n",
    "P_Gen = np.zeros((case.bus.shape[0],1))\n",
    "Load = np.zeros((case.bus.shape[0],2))\n",
    "\n",
    "\n",
    "P_Gen[case.gen.loc[:,'bus']] = np.array([case.gen.loc[:,'p_mw']]).transpose()\n",
    "Load[case.load.loc[:,'bus'],0] = np.array([case.load.loc[:,'p_mw']])\n",
    "Load[case.load.loc[:,'bus'],1] = np.array([case.load.loc[:,'q_mvar']])\n",
    "\n",
    "Data_form_1 = np.hstack((P_Gen,Load))/S_base  \n",
    "\n",
    "           \n",
    "### Data_form_2: R X  \n",
    "\n",
    "R = np.multiply(np.array([case.line.loc[:,'r_ohm_per_km']]),np.array([case.line.loc[:,'length_km']])).transpose()\n",
    "X = np.multiply(np.array([case.line.loc[:,'x_ohm_per_km']]),np.array([case.line.loc[:,'length_km']])).transpose()\n",
    "C = np.multiply(np.array([case.line.loc[:,'c_nf_per_km']]),np.array([case.line.loc[:,'length_km']])).transpose()*1e-9\n",
    "C[C!=0] = 1/(2*np.pi*Freq*C[C!=0])\n",
    "Xc = C\n",
    "\n",
    "Data_form_2 = np.hstack((np.multiply(R,1/Z_base),\\\n",
    "                       np.multiply(X,1/Z_base),\\\n",
    "                        np.multiply(-Xc,1/Z_base)))\n",
    "\n"
   ]
  },
  {
   "cell_type": "markdown",
   "id": "e42d984d",
   "metadata": {},
   "source": [
    "## Roulette Wheel Algorithm Using Normal-PDF to Generate Scenarios"
   ]
  },
  {
   "cell_type": "code",
   "execution_count": 127,
   "id": "57212f1a",
   "metadata": {},
   "outputs": [],
   "source": [
    "number_of_data = 10000       # Including data for both Training and Testing\n",
    "\n",
    "Scenario = np.zeros([number_of_data,Data_form_1.shape[0],Data_form_1.shape[1]])\n",
    "\n",
    "for i in range(number_of_data):\n",
    "    \n",
    "    Scenario[i,:,:] = Data_form_1\n",
    "    Scenario[i,:,0:2] = norm.ppf(np.random.rand(Load.shape[0],2),\\\n",
    "                                                              Load,np.multiply(0.1,Load))\n",
    "\n"
   ]
  },
  {
   "cell_type": "code",
   "execution_count": 131,
   "id": "855cc3bc",
   "metadata": {},
   "outputs": [
    {
     "name": "stdout",
     "output_type": "stream",
     "text": [
      "[[           nan            nan 0.00000000e+00]\n",
      " [2.33415417e+01 1.14775133e+01 1.27000000e-01]\n",
      " [2.16286801e+00 1.05649039e+00 1.20000000e-02]\n",
      " [8.69602397e+00 1.49298566e+00 1.60000000e-02]\n",
      " [           nan            nan 0.00000000e+00]\n",
      " [           nan            nan 0.00000000e+00]\n",
      " [2.40560547e+01 1.05599573e+01 1.09000000e-01]\n",
      " [2.98621913e+01 3.15057159e+01 3.00000000e-01]\n",
      " [           nan            nan 0.00000000e+00]\n",
      " [5.18011763e+00 1.88404092e+00 2.00000000e-02]\n",
      " [           nan            nan 0.00000000e+00]\n",
      " [9.34598040e+00 6.19447073e+00 7.50000000e-02]\n",
      " [           nan            nan 0.00000000e+00]\n",
      " [5.84484940e+00 1.75964769e+00 1.60000000e-02]\n",
      " [7.72919472e+00 2.01161798e+00 2.50000000e-02]\n",
      " [3.59899508e+00 1.80227323e+00 1.80000000e-02]\n",
      " [8.71609638e+00 5.25457692e+00 5.80000000e-02]\n",
      " [3.23987974e+00 8.07458656e-01 9.00000000e-03]\n",
      " [1.04713413e+01 4.03112966e+00 3.40000000e-02]\n",
      " [2.29511291e+00 5.61810514e-01 7.00000000e-03]\n",
      " [1.76435993e+01 1.00617242e+01 1.12000000e-01]\n",
      " [           nan            nan 0.00000000e+00]\n",
      " [3.56048274e+00 1.44980641e+00 1.60000000e-02]\n",
      " [9.26627191e+00 6.23653098e+00 6.70000000e-02]\n",
      " [           nan            nan 0.00000000e+00]\n",
      " [3.67910341e+00 1.93906635e+00 2.30000000e-02]\n",
      " [           nan            nan 0.00000000e+00]\n",
      " [           nan            nan 0.00000000e+00]\n",
      " [2.77040700e+00 8.96128710e-01 9.00000000e-03]\n",
      " [1.04454215e+01 1.64081133e+00 1.90000000e-02]]\n"
     ]
    }
   ],
   "source": [
    "print(Scenario[1])"
   ]
  },
  {
   "cell_type": "markdown",
   "id": "87632a13",
   "metadata": {},
   "source": [
    "## Implement Power Flow to Get Labels"
   ]
  },
  {
   "cell_type": "code",
   "execution_count": 9,
   "id": "3aad4be8",
   "metadata": {},
   "outputs": [],
   "source": [
    "Label = np.zeros((number_of_data,number_of_bus,2))\n",
    "\n",
    "for i in range(number_of_data):\n",
    "    \n",
    "    case.load.iloc[:,6:8] = Scenario[i,case.load.iloc[:,0],2:4]\n",
    "    \n",
    "    pp.runpp(case, algorithm='nr', calculate_voltage_angles='auto', init='auto',\\\n",
    "                  max_iteration='auto', tolerance_mva=1e-08, trafo_model='t',\\\n",
    "                  trafo_loading='current', enforce_q_lims=False,\\\n",
    "                  check_connectivity=True, voltage_depend_loads=True,\\\n",
    "                 consider_line_temperature=False)\n",
    "    \n",
    "    Label[i,:,:] = case.res_bus.iloc[:,0:2]\n",
    "    \n",
    "Training_Label = Label[0:number_of_training_data,:,:]\n",
    "Test_Label = Label[number_of_training_data:,:,:]\n"
   ]
  },
  {
   "cell_type": "markdown",
   "id": "780b056b",
   "metadata": {},
   "source": [
    "## Exporting Data to CSV files"
   ]
  },
  {
   "cell_type": "code",
   "execution_count": 10,
   "id": "0c1d48f9",
   "metadata": {},
   "outputs": [],
   "source": [
    "Final_Training_Data = pd.DataFrame(Training_Data.reshape(number_of_training_data,-1))\n",
    "Final_Training_Label  = pd.DataFrame(Training_Label.reshape(number_of_training_data,-1))\n",
    "Final_Training_Data.to_csv(\"C:/Users/adria/OneDrive/Desktop/DataGeneration/train_data_30bus.csv\",index = False)\n",
    "Final_Training_Label.to_csv(\"C:/Users/adria/OneDrive/Desktop/DataGeneration/train_label_30bus.csv\",index = False)\n",
    "\n",
    "Final_Test_Data   = pd.DataFrame(Test_Data.reshape(number_of_test_data,-1))\n",
    "Final_Test_Label  = pd.DataFrame(Test_Label.reshape(number_of_test_data,-1))\n",
    "Final_Test_Data.to_csv(\"C:/Users/adria/OneDrive/Desktop/DataGeneration/test_data_30bus.csv\",index = False)\n",
    "Final_Test_Label.to_csv(\"C:/Users/adria/OneDrive/Desktop/DataGeneration/test_label_30bus.csv\",index = False)"
   ]
  },
  {
   "cell_type": "code",
   "execution_count": null,
   "id": "6ece7dcd",
   "metadata": {},
   "outputs": [],
   "source": []
  }
 ],
 "metadata": {
  "kernelspec": {
   "display_name": "Python 3 (ipykernel)",
   "language": "python",
   "name": "python3"
  },
  "language_info": {
   "codemirror_mode": {
    "name": "ipython",
    "version": 3
   },
   "file_extension": ".py",
   "mimetype": "text/x-python",
   "name": "python",
   "nbconvert_exporter": "python",
   "pygments_lexer": "ipython3",
   "version": "3.7.11"
  }
 },
 "nbformat": 4,
 "nbformat_minor": 5
}
