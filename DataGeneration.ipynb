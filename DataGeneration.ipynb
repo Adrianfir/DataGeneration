{
 "cells": [
  {
   "cell_type": "markdown",
   "id": "d0a5f77b",
   "metadata": {},
   "source": [
    "# Data Generation (Supervised Learning)"
   ]
  },
  {
   "cell_type": "markdown",
   "id": "e552a82d",
   "metadata": {},
   "source": [
    "## Import Packages"
   ]
  },
  {
   "cell_type": "code",
   "execution_count": 6,
   "id": "5f73f542",
   "metadata": {},
   "outputs": [],
   "source": [
    "import numpy as np\n",
    "import scipy\n",
    "from scipy.stats import norm\n",
    "import pandapower as pp\n",
    "import pandas as pd\n",
    "import pandapower.networks\n",
    "import tensorflow as tf\n",
    "import csv\n",
    "import torch"
   ]
  },
  {
   "cell_type": "markdown",
   "id": "e41f9eb5",
   "metadata": {},
   "source": [
    "## Input Data"
   ]
  },
  {
   "cell_type": "code",
   "execution_count": 7,
   "id": "aecc4013",
   "metadata": {},
   "outputs": [],
   "source": [
    "case = pp.networks.case30()\n",
    "number_of_bus = case.bus.shape[0]\n",
    "baseMVA = 100\n",
    "\n",
    "initial_voltage = 1\n",
    "initial_delta = 0\n",
    "\n",
    "number_of_data = 10000       # Including data for both Training and Testing\n",
    "number_of_training_data = 9000\n",
    "number_of_test_data = np.subtract(number_of_data,number_of_training_data)\n",
    "\n",
    "load = case.load.iloc[:,6:8]\n",
    "load_bus_number = case.load.iloc[:,0]\n",
    "\n",
    "Pgenerators = np.zeros((number_of_bus,1))\n",
    "Pgenerators[case.gen.iloc[:,0],0] = -case.gen.iloc[:,4]\n",
    "\n",
    "PQload = np.zeros((number_of_bus,2))\n",
    "PQload[case.load.iloc[:,0],:] = case.load.iloc[:,6:8]\n",
    "\n",
    "\n",
    "\n",
    "### R X  PL QL PG initial_voltage initial_delta\n",
    "\n",
    "Data_form = np.hstack((np.array(case.bus_geodata.iloc[:,0:2]),\\\n",
    "                       PQload,Pgenerators,\\\n",
    "                      np.full((number_of_bus,1),initial_voltage),\\\n",
    "                     np.full((number_of_bus,1),initial_delta)))"
   ]
  },
  {
   "cell_type": "markdown",
   "id": "e42d984d",
   "metadata": {},
   "source": [
    "## Roulette Wheel Algorithm Using Normal-PDF to Generate Scenarios"
   ]
  },
  {
   "cell_type": "code",
   "execution_count": 8,
   "id": "57212f1a",
   "metadata": {},
   "outputs": [],
   "source": [
    "Scenario = np.zeros([number_of_data,Data_form.shape[0],Data_form.shape[1]])\n",
    "\n",
    "for i in range(number_of_data):\n",
    "    \n",
    "    Scenario[i,:,:] = Data_form\n",
    "    Scenario[i,load_bus_number,2:4] = norm.ppf(np.random.rand(load.shape[0],1),\\\n",
    "                                                              load,np.multiply(0.1,load))\n",
    "\n",
    "Training_Data = Scenario[0:number_of_training_data,:,:]\n",
    "Test_Data = Scenario[number_of_training_data:,:,:]"
   ]
  },
  {
   "cell_type": "markdown",
   "id": "87632a13",
   "metadata": {},
   "source": [
    "## Implement Power Flow to Get Labels"
   ]
  },
  {
   "cell_type": "code",
   "execution_count": 9,
   "id": "3aad4be8",
   "metadata": {},
   "outputs": [],
   "source": [
    "Label = np.zeros((number_of_data,number_of_bus,2))\n",
    "\n",
    "for i in range(number_of_data):\n",
    "    \n",
    "    case.load.iloc[:,6:8] = Scenario[i,case.load.iloc[:,0],2:4]\n",
    "    \n",
    "    pp.runpp(case, algorithm='nr', calculate_voltage_angles='auto', init='auto',\\\n",
    "                  max_iteration='auto', tolerance_mva=1e-08, trafo_model='t',\\\n",
    "                  trafo_loading='current', enforce_q_lims=False,\\\n",
    "                  check_connectivity=True, voltage_depend_loads=True,\\\n",
    "                 consider_line_temperature=False)\n",
    "    \n",
    "    Label[i,:,:] = case.res_bus.iloc[:,0:2]\n",
    "    \n",
    "Training_Label = Label[0:number_of_training_data,:,:]\n",
    "Test_Label = Label[number_of_training_data:,:,:]\n"
   ]
  },
  {
   "cell_type": "markdown",
   "id": "780b056b",
   "metadata": {},
   "source": [
    "## Exporting Data to CSV files"
   ]
  },
  {
   "cell_type": "code",
   "execution_count": 10,
   "id": "0c1d48f9",
   "metadata": {},
   "outputs": [],
   "source": [
    "Final_Training_Data = pd.DataFrame(Training_Data.reshape(number_of_training_data,-1))\n",
    "Final_Training_Label  = pd.DataFrame(Training_Label.reshape(number_of_training_data,-1))\n",
    "Final_Training_Data.to_csv(\"C:/Users/adria/OneDrive/Desktop/DataGeneration/train_data_30bus.csv\",index = False)\n",
    "Final_Training_Label.to_csv(\"C:/Users/adria/OneDrive/Desktop/DataGeneration/train_label_30bus.csv\",index = False)\n",
    "\n",
    "Final_Test_Data   = pd.DataFrame(Test_Data.reshape(number_of_test_data,-1))\n",
    "Final_Test_Label  = pd.DataFrame(Test_Label.reshape(number_of_test_data,-1))\n",
    "Final_Test_Data.to_csv(\"C:/Users/adria/OneDrive/Desktop/DataGeneration/test_data_30bus.csv\",index = False)\n",
    "Final_Test_Label.to_csv(\"C:/Users/adria/OneDrive/Desktop/DataGeneration/test_label_30bus.csv\",index = False)\n",
    "\n",
    "\n"
   ]
  },
  {
   "cell_type": "code",
   "execution_count": 12,
   "id": "0c83cb18",
   "metadata": {},
   "outputs": [
    {
     "data": {
      "text/plain": [
       "array([[ -1.72745671,  -3.18926495,   0.        ,   0.        ,\n",
       "          0.        ,   1.        ,   0.        ],\n",
       "       [ -0.56201718,  -3.31485248,  23.40390499,  13.69721628,\n",
       "        -60.97      ,   1.        ,   0.        ],\n",
       "       [  1.01208789,  -1.7414861 ,   2.46065497,   1.23032749,\n",
       "          0.        ,   1.        ,   0.        ],\n",
       "       [ -0.24837037,  -5.70115994,   7.84098658,   1.65073402,\n",
       "          0.        ,   1.        ,   0.        ],\n",
       "       [ -1.35150967,  -6.36486218,   0.        ,   0.        ,\n",
       "          0.        ,   1.        ,   0.        ],\n",
       "       [ -0.13926784,  -6.73571955,   0.        ,   0.        ,\n",
       "          0.        ,   1.        ,   0.        ],\n",
       "       [  0.80417636,  -6.42630578,  22.85414064,  10.92588303,\n",
       "          0.        ,   1.        ,   0.        ],\n",
       "       [ -0.92429544,  -5.4723948 ,  25.4187864 ,  25.4187864 ,\n",
       "          0.        ,   1.        ,   0.        ],\n",
       "       [  0.22956928,  -4.90944857,   0.        ,   0.        ,\n",
       "          0.        ,   1.        ,   0.        ],\n",
       "       [  1.09371427,  -7.47317433,   6.61434345,   2.28080809,\n",
       "          0.        ,   1.        ,   0.        ],\n",
       "       [  1.85748806,  -6.85579078,   0.        ,   0.        ,\n",
       "          0.        ,   1.        ,   0.        ],\n",
       "       [  1.49660851,  -5.55666062,  10.12731851,   6.7816865 ,\n",
       "          0.        ,   1.        ,   0.        ],\n",
       "       [ -1.59061066,  -4.14420215,   0.        ,   0.        ,\n",
       "        -37.        ,   1.        ,   0.        ],\n",
       "       [  1.88175936,  -4.66873032,   6.06847187,   1.56605726,\n",
       "          0.        ,   1.        ,   0.        ],\n",
       "       [  2.40686019,  -4.39934365,   6.61121219,   2.01561347,\n",
       "          0.        ,   1.        ,   0.        ],\n",
       "       [  2.27487653,  -6.16193702,   3.92285844,   2.01747005,\n",
       "          0.        ,   1.        ,   0.        ],\n",
       "       [  3.11698366,  -5.14659204,   8.61706109,   5.55321714,\n",
       "          0.        ,   1.        ,   0.        ],\n",
       "       [  3.72464112,  -4.03709279,   2.70901263,   0.7619098 ,\n",
       "          0.        ,   1.        ,   0.        ],\n",
       "       [  4.82994041,  -4.27047595,   8.94808616,   3.20247294,\n",
       "          0.        ,   1.        ,   0.        ],\n",
       "       [  3.10390659,  -2.86734213,   1.99745594,   0.63555416,\n",
       "          0.        ,   1.        ,   0.        ],\n",
       "       [  1.85340926,  -2.84894447,  14.43538585,   9.23864695,\n",
       "          0.        ,   1.        ,   0.        ],\n",
       "       [  4.03780332,  -2.28350293,   0.        ,   0.        ,\n",
       "        -21.59      ,   1.        ,   0.        ],\n",
       "       [  3.47094773,  -1.74528927,   3.70151286,   1.85075643,\n",
       "        -19.2       ,   1.        ,   0.        ],\n",
       "       [ -0.37269465,  -4.28290755,   8.79814642,   6.77558402,\n",
       "          0.        ,   1.        ,   0.        ],\n",
       "       [ -1.05378362,  -2.23944635,   0.        ,   0.        ,\n",
       "          0.        ,   1.        ,   0.        ],\n",
       "       [  0.5309084 ,  -3.43327237,   3.27618555,   2.15292193,\n",
       "          0.        ,   1.        ,   0.        ],\n",
       "       [ -0.06737913,  -2.39188731,   0.        ,   0.        ,\n",
       "        -26.91      ,   1.        ,   0.        ],\n",
       "       [  1.06691506,  -2.43115811,   0.        ,   0.        ,\n",
       "          0.        ,   1.        ,   0.        ],\n",
       "       [  1.10378175,  -3.1875438 ,   2.54876552,   0.95578707,\n",
       "          0.        ,   1.        ,   0.        ],\n",
       "       [  1.16269949,  -4.29784958,   9.34762126,   1.67551702,\n",
       "          0.        ,   1.        ,   0.        ]])"
      ]
     },
     "execution_count": 12,
     "metadata": {},
     "output_type": "execute_result"
    }
   ],
   "source": [
    "Training_Data[1]"
   ]
  },
  {
   "cell_type": "code",
   "execution_count": null,
   "id": "6ece7dcd",
   "metadata": {},
   "outputs": [],
   "source": []
  }
 ],
 "metadata": {
  "kernelspec": {
   "display_name": "Python 3 (ipykernel)",
   "language": "python",
   "name": "python3"
  },
  "language_info": {
   "codemirror_mode": {
    "name": "ipython",
    "version": 3
   },
   "file_extension": ".py",
   "mimetype": "text/x-python",
   "name": "python",
   "nbconvert_exporter": "python",
   "pygments_lexer": "ipython3",
   "version": "3.7.11"
  }
 },
 "nbformat": 4,
 "nbformat_minor": 5
}
