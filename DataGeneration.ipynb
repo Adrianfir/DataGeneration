{
 "cells": [
  {
   "cell_type": "markdown",
   "id": "d0a5f77b",
   "metadata": {},
   "source": [
    "# Data Generation (Supervised Learning)"
   ]
  },
  {
   "cell_type": "markdown",
   "id": "e552a82d",
   "metadata": {},
   "source": [
    "## Import Packages"
   ]
  },
  {
   "cell_type": "code",
   "execution_count": 2,
   "id": "5f73f542",
   "metadata": {},
   "outputs": [],
   "source": [
    "import numpy as np\n",
    "import scipy\n",
    "from scipy.stats import norm\n",
    "import pandapower as pp\n",
    "import pandas as pd\n",
    "import pandapower.networks\n",
    "import tensorflow as tf\n",
    "import csv\n",
    "import torch"
   ]
  },
  {
   "cell_type": "markdown",
   "id": "e41f9eb5",
   "metadata": {},
   "source": [
    "## Input Data"
   ]
  },
  {
   "cell_type": "code",
   "execution_count": 3,
   "id": "4e4a3073",
   "metadata": {},
   "outputs": [],
   "source": [
    "case = pp.networks.case30()\n",
    "number_of_bus = case.bus.shape[0]\n",
    "\n",
    "Freq = 50           ## Frequency Hz\n",
    "S_base = 100\n",
    "load_bus_number = case.load.loc[:,'bus']\n",
    "\n",
    "### Z_base\n",
    "\n",
    "V_base = np.zeros((case.line.shape[0],1))\n",
    "for  i in range(case.line.shape[0]):\n",
    "    V_base[i,0] = case.bus.loc[case.bus.index[case.bus.loc[:,'name']==case.line.loc[i,'to_bus']],'vn_kv']\n",
    "\n",
    "Z_base = np.square(V_base)/S_base\n",
    "\n",
    "### Data_form_1: PG PL QL  \n",
    "P_Gen = np.zeros((case.bus.shape[0],1))\n",
    "Load = np.zeros((case.bus.shape[0],2))\n",
    "\n",
    "\n",
    "P_Gen[case.gen.loc[:,'bus']] = np.array([case.gen.loc[:,'p_mw']]).transpose()\n",
    "Load[case.load.loc[:,'bus'],0] = np.array([case.load.loc[:,'p_mw']])\n",
    "Load[case.load.loc[:,'bus'],1] = np.array([case.load.loc[:,'q_mvar']])\n",
    "\n",
    "Data_form_1 = np.hstack((P_Gen,Load))/S_base  \n",
    "\n",
    "           \n",
    "### Data_form_2: R X  \n",
    "\n",
    "R = np.multiply(np.array([case.line.loc[:,'r_ohm_per_km']]),np.array([case.line.loc[:,'length_km']])).transpose()\n",
    "X = np.multiply(np.array([case.line.loc[:,'x_ohm_per_km']]),np.array([case.line.loc[:,'length_km']])).transpose()\n",
    "C = np.multiply(np.array([case.line.loc[:,'c_nf_per_km']]),np.array([case.line.loc[:,'length_km']])).transpose()*1e-9\n",
    "C[C!=0] = 1/(2*np.pi*Freq*C[C!=0])\n",
    "Xc = C\n",
    "\n",
    "Data_form_2 = np.hstack((np.multiply(R,1/Z_base),\\\n",
    "                       np.multiply(X,1/Z_base),\\\n",
    "                        np.multiply(-Xc,1/Z_base)))\n",
    "\n"
   ]
  },
  {
   "cell_type": "markdown",
   "id": "e42d984d",
   "metadata": {},
   "source": [
    "## Roulette Wheel Algorithm Using Normal-PDF to Generate Scenarios"
   ]
  },
  {
   "cell_type": "code",
   "execution_count": 4,
   "id": "57212f1a",
   "metadata": {},
   "outputs": [],
   "source": [
    "number_of_data = 10000       # Including data for both Training and Testing\n",
    "\n",
    "Scenario = np.zeros([number_of_data,Data_form_1.shape[0],Data_form_1.shape[1]])\n",
    "\n",
    "for i in range(number_of_data):\n",
    "    \n",
    "    Scenario[i,:,:] = Data_form_1\n",
    "    Scenario[i,np.unique(np.nonzero(Load)[0]),1:] = norm.ppf(np.random.rand(load_bus_number.shape[0],2),\\\n",
    "                                            Load[np.unique(np.nonzero(Load)[0]),:],\\\n",
    "                                            np.multiply(0.1,Load[np.unique(np.nonzero(Load)[0]),:]))/S_base"
   ]
  },
  {
   "cell_type": "markdown",
   "id": "87632a13",
   "metadata": {},
   "source": [
    "## Implement Power Flow to Get Labels"
   ]
  },
  {
   "cell_type": "code",
   "execution_count": 6,
   "id": "3aad4be8",
   "metadata": {},
   "outputs": [],
   "source": [
    "Label = np.zeros((number_of_data,number_of_bus,2))\n",
    "\n",
    "for i in range(number_of_data):\n",
    "    \n",
    "    case.load.iloc[:,6:8] = Scenario[i,case.load.iloc[:,0],1:]*S_base\n",
    "    \n",
    "    pp.runpp(case, algorithm='nr', calculate_voltage_angles='auto', init='auto',\\\n",
    "                  max_iteration='auto', tolerance_mva=1e-08, trafo_model='t',\\\n",
    "                  trafo_loading='current', enforce_q_lims=False,\\\n",
    "                  check_connectivity=True, voltage_depend_loads=True,\\\n",
    "                 consider_line_temperature=False)\n",
    "    \n",
    "    Label[i,:,:] = case.res_bus.iloc[:,0:2]"
   ]
  },
  {
   "cell_type": "code",
   "execution_count": 7,
   "id": "97f0f4dc",
   "metadata": {},
   "outputs": [
    {
     "data": {
      "text/plain": [
       "array([[[ 1.        ,  0.        ],\n",
       "        [ 1.        , -0.44773295],\n",
       "        [ 0.98219012, -1.61348584],\n",
       "        ...,\n",
       "        [ 0.97290807, -2.41464758],\n",
       "        [ 0.97862871, -2.62484758],\n",
       "        [ 0.96658513, -3.66798594]],\n",
       "\n",
       "       [[ 1.        ,  0.        ],\n",
       "        [ 1.        , -0.12309921],\n",
       "        [ 0.98508855, -1.09893375],\n",
       "        ...,\n",
       "        [ 0.97745698, -1.64421055],\n",
       "        [ 0.97883951, -1.37713033],\n",
       "        [ 0.96688148, -2.28724071]],\n",
       "\n",
       "       [[ 1.        ,  0.        ],\n",
       "        [ 1.        , -0.37025234],\n",
       "        [ 0.98312133, -1.42063166],\n",
       "        ...,\n",
       "        [ 0.97443674, -2.12360072],\n",
       "        [ 0.97943165, -2.11589577],\n",
       "        [ 0.9681803 , -3.04587438]],\n",
       "\n",
       "       ...,\n",
       "\n",
       "       [[ 1.        ,  0.        ],\n",
       "        [ 1.        , -0.48503795],\n",
       "        [ 0.9826492 , -1.63779443],\n",
       "        ...,\n",
       "        [ 0.97348644, -2.48675393],\n",
       "        [ 0.97908187, -2.44087673],\n",
       "        [ 0.96668214, -3.43508077]],\n",
       "\n",
       "       [[ 1.        ,  0.        ],\n",
       "        [ 1.        , -0.39551998],\n",
       "        [ 0.98409156, -1.45773398],\n",
       "        ...,\n",
       "        [ 0.97625741, -2.22406693],\n",
       "        [ 0.97984481, -1.85638328],\n",
       "        [ 0.96845007, -2.71970862]],\n",
       "\n",
       "       [[ 1.        ,  0.        ],\n",
       "        [ 1.        , -0.70736809],\n",
       "        [ 0.98001389, -1.92274632],\n",
       "        ...,\n",
       "        [ 0.96932324, -2.89291493],\n",
       "        [ 0.97716784, -3.25944488],\n",
       "        [ 0.96405868, -4.26749862]]])"
      ]
     },
     "execution_count": 7,
     "metadata": {},
     "output_type": "execute_result"
    }
   ],
   "source": [
    "Label"
   ]
  },
  {
   "cell_type": "markdown",
   "id": "780b056b",
   "metadata": {},
   "source": [
    "## Exporting Data to CSV files"
   ]
  },
  {
   "cell_type": "code",
   "execution_count": 10,
   "id": "0c1d48f9",
   "metadata": {},
   "outputs": [],
   "source": [
    "Final_Training_Data = pd.DataFrame(Training_Data.reshape(number_of_training_data,-1))\n",
    "Final_Training_Label  = pd.DataFrame(Training_Label.reshape(number_of_training_data,-1))\n",
    "Final_Training_Data.to_csv(\"C:/Users/adria/OneDrive/Desktop/DataGeneration/train_data_30bus.csv\",index = False)\n",
    "Final_Training_Label.to_csv(\"C:/Users/adria/OneDrive/Desktop/DataGeneration/train_label_30bus.csv\",index = False)\n",
    "\n",
    "Final_Test_Data   = pd.DataFrame(Test_Data.reshape(number_of_test_data,-1))\n",
    "Final_Test_Label  = pd.DataFrame(Test_Label.reshape(number_of_test_data,-1))\n",
    "Final_Test_Data.to_csv(\"C:/Users/adria/OneDrive/Desktop/DataGeneration/test_data_30bus.csv\",index = False)\n",
    "Final_Test_Label.to_csv(\"C:/Users/adria/OneDrive/Desktop/DataGeneration/test_label_30bus.csv\",index = False)"
   ]
  },
  {
   "cell_type": "code",
   "execution_count": null,
   "id": "6ece7dcd",
   "metadata": {},
   "outputs": [],
   "source": []
  }
 ],
 "metadata": {
  "kernelspec": {
   "display_name": "Python 3 (ipykernel)",
   "language": "python",
   "name": "python3"
  },
  "language_info": {
   "codemirror_mode": {
    "name": "ipython",
    "version": 3
   },
   "file_extension": ".py",
   "mimetype": "text/x-python",
   "name": "python",
   "nbconvert_exporter": "python",
   "pygments_lexer": "ipython3",
   "version": "3.7.11"
  }
 },
 "nbformat": 4,
 "nbformat_minor": 5
}
