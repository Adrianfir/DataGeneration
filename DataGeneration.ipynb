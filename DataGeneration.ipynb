{
 "cells": [
  {
   "cell_type": "markdown",
   "id": "d0a5f77b",
   "metadata": {},
   "source": [
    "# Data Generation"
   ]
  },
  {
   "cell_type": "markdown",
   "id": "e552a82d",
   "metadata": {},
   "source": [
    "## Import Packages"
   ]
  },
  {
   "cell_type": "code",
   "execution_count": 126,
   "id": "5f73f542",
   "metadata": {},
   "outputs": [],
   "source": [
    "import numpy as np\n",
    "import scipy\n",
    "from scipy.stats import norm\n",
    "import pandapower as pp\n",
    "import pandas as pd\n",
    "import pandapower.networks\n",
    "import tensorflow as tf\n",
    "import csv\n",
    "import torch"
   ]
  },
  {
   "cell_type": "markdown",
   "id": "e41f9eb5",
   "metadata": {},
   "source": [
    "## Input Data"
   ]
  },
  {
   "cell_type": "code",
   "execution_count": 127,
   "id": "aecc4013",
   "metadata": {},
   "outputs": [],
   "source": [
    "case = pp.networks.case9()\n",
    "number_of_bus = case.bus.shape[0]\n",
    "baseMVA = 100\n",
    "\n",
    "number_of_data = 2500       # Including data for both Training and Testing\n",
    "number_of_training_data = 2000\n",
    "number_of_test_data = np.subtract(number_of_data,number_of_training_data)\n",
    "\n",
    "load = case.load.iloc[:,6:8]\n",
    "load_bus_number = case.load.iloc[:,0]\n",
    "\n",
    "Pgenerators = np.zeros((number_of_bus,1))\n",
    "Pgenerators[case.gen.iloc[:,0],0] = -case.gen.iloc[:,4]\n",
    "\n",
    "PQload = np.zeros((number_of_bus,2))\n",
    "PQload[case.load.iloc[:,0],:] = case.load.iloc[:,6:8]\n",
    "\n",
    "\n",
    "\n",
    "### NB FB TB R X PL QL PG\n",
    "\n",
    "Data_form = np.hstack(((np.array(case.bus_geodata.iloc[:,0:2])),\\\n",
    "                       PQload,Pgenerators))"
   ]
  },
  {
   "cell_type": "markdown",
   "id": "e42d984d",
   "metadata": {},
   "source": [
    "## Roulette Wheel Algorithm Using Normal-PDF to Generate Scenarios"
   ]
  },
  {
   "cell_type": "code",
   "execution_count": 128,
   "id": "57212f1a",
   "metadata": {},
   "outputs": [],
   "source": [
    "Scenario = np.zeros([number_of_data,Data_form.shape[0],Data_form.shape[1]])\n",
    "\n",
    "for i in range(number_of_data):\n",
    "    \n",
    "    Scenario[i,:,:] = Data_form\n",
    "    Scenario[i,load_bus_number,2:4] = norm.ppf(np.random.rand(load.shape[0],1),\\\n",
    "                                                              load,np.multiply(0.1,load))\n",
    "\n",
    "Training_Data = Scenario[0:number_of_training_data,:,:]\n",
    "Test_Data = Scenario[number_of_training_data:,:,:]\n",
    "\n",
    "\n"
   ]
  },
  {
   "cell_type": "markdown",
   "id": "87632a13",
   "metadata": {},
   "source": [
    "## Implement Power Flow to Get Labels"
   ]
  },
  {
   "cell_type": "code",
   "execution_count": 129,
   "id": "3aad4be8",
   "metadata": {},
   "outputs": [],
   "source": [
    "Label = np.zeros((number_of_data,number_of_bus,2))\n",
    "\n",
    "for i in range(number_of_data):\n",
    "    \n",
    "    case.load.iloc[:,6:8] = Scenario[i,case.load.iloc[:,0],2:4]\n",
    "    \n",
    "    pp.runpp(case, algorithm='nr', calculate_voltage_angles='auto', init='auto',\\\n",
    "                  max_iteration='auto', tolerance_mva=1e-08, trafo_model='t',\\\n",
    "                  trafo_loading='current', enforce_q_lims=False,\\\n",
    "                  check_connectivity=True, voltage_depend_loads=True,\\\n",
    "                 consider_line_temperature=False)\n",
    "    \n",
    "    Label[i,:,:] = case.res_bus.iloc[:,0:2]\n",
    "    \n",
    "Training_Label = Label[0:number_of_training_data,:,:]\n",
    "Test_Label = Label[number_of_training_data:,:,:]\n"
   ]
  },
  {
   "cell_type": "markdown",
   "id": "30e59cf0",
   "metadata": {},
   "source": [
    "## Export Data"
   ]
  },
  {
   "cell_type": "code",
   "execution_count": 130,
   "id": "0c1d48f9",
   "metadata": {},
   "outputs": [],
   "source": [
    "Final_Training_Data = pd.DataFrame(Training_Data.reshape(number_of_training_data,-1))\n",
    "Final_Training_Label  = pd.DataFrame(Training_Label.reshape(number_of_training_data,-1))\n",
    "Final_Training_Data.to_csv(\"C:/Users/adria/OneDrive/Desktop/DataGeneration/train_data.csv\",index = False)\n",
    "Final_Training_Label.to_csv(\"C:/Users/adria/OneDrive/Desktop/DataGeneration/train_label.csv\",index = False)\n",
    "\n",
    "Final_Test_Data   = pd.DataFrame(Test_Data.reshape(number_of_test_data,-1))\n",
    "Final_Test_Label  = pd.DataFrame(Test_Label.reshape(number_of_test_data,-1))\n",
    "Final_Test_Data.to_csv(\"C:/Users/adria/OneDrive/Desktop/DataGeneration/test_data.csv\",index = False)\n",
    "Final_Test_Label.to_csv(\"C:/Users/adria/OneDrive/Desktop/DataGeneration/test_label.csv\",index = False)\n",
    "\n",
    "\n"
   ]
  },
  {
   "cell_type": "code",
   "execution_count": null,
   "id": "8e4e1aa2",
   "metadata": {},
   "outputs": [],
   "source": []
  }
 ],
 "metadata": {
  "kernelspec": {
   "display_name": "Python 3 (ipykernel)",
   "language": "python",
   "name": "python3"
  },
  "language_info": {
   "codemirror_mode": {
    "name": "ipython",
    "version": 3
   },
   "file_extension": ".py",
   "mimetype": "text/x-python",
   "name": "python",
   "nbconvert_exporter": "python",
   "pygments_lexer": "ipython3",
   "version": "3.7.11"
  }
 },
 "nbformat": 4,
 "nbformat_minor": 5
}
