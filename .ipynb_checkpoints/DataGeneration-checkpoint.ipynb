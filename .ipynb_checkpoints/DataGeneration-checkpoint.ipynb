{
 "cells": [
  {
   "cell_type": "markdown",
   "id": "d0a5f77b",
   "metadata": {},
   "source": [
    "# Data Generation"
   ]
  },
  {
   "cell_type": "markdown",
   "id": "e552a82d",
   "metadata": {},
   "source": [
    "## Import Packages"
   ]
  },
  {
   "cell_type": "code",
   "execution_count": 131,
   "id": "5f73f542",
   "metadata": {},
   "outputs": [],
   "source": [
    "import numpy as np\n",
    "import scipy\n",
    "from scipy.stats import norm\n",
    "import pandapower as pp\n",
    "import pandas as pd\n",
    "import pandapower.networks\n",
    "import tensorflow as tf\n",
    "import csv\n",
    "import torch"
   ]
  },
  {
   "cell_type": "markdown",
   "id": "e41f9eb5",
   "metadata": {},
   "source": [
    "## Input Data"
   ]
  },
  {
   "cell_type": "code",
   "execution_count": 132,
   "id": "aecc4013",
   "metadata": {},
   "outputs": [],
   "source": [
    "case = pp.networks.case9()\n",
    "number_of_bus = case.bus.shape[0]\n",
    "baseMVA = 100\n",
    "\n",
    "number_of_data = 10000       # Including data for both Training and Testing\n",
    "number_of_training_data = 8000\n",
    "number_of_test_data = np.subtract(number_of_data,number_of_training_data)\n",
    "\n",
    "load = case.load.iloc[:,6:8]\n",
    "load_bus_number = case.load.iloc[:,0]\n",
    "\n",
    "Pgenerators = np.zeros((number_of_bus,1))\n",
    "Pgenerators[case.gen.iloc[:,0],0] = -case.gen.iloc[:,4]\n",
    "\n",
    "PQload = np.zeros((number_of_bus,2))\n",
    "PQload[case.load.iloc[:,0],:] = case.load.iloc[:,6:8]\n",
    "\n",
    "\n",
    "\n",
    "### NB FB TB R X PL QL PG\n",
    "\n",
    "Data_form = np.hstack(((np.array(case.bus_geodata.iloc[:,0:2])),\\\n",
    "                       PQload,Pgenerators))"
   ]
  },
  {
   "cell_type": "markdown",
   "id": "e42d984d",
   "metadata": {},
   "source": [
    "## Roulette Wheel Algorithm Using Normal-PDF to Generate Scenarios"
   ]
  },
  {
   "cell_type": "code",
   "execution_count": 133,
   "id": "57212f1a",
   "metadata": {},
   "outputs": [],
   "source": [
    "Scenario = np.zeros([number_of_data,Data_form.shape[0],Data_form.shape[1]])\n",
    "\n",
    "for i in range(number_of_data):\n",
    "    \n",
    "    Scenario[i,:,:] = Data_form\n",
    "    Scenario[i,load_bus_number,2:4] = norm.ppf(np.random.rand(load.shape[0],1),\\\n",
    "                                                              load,np.multiply(0.1,load))\n",
    "\n",
    "Training_Data = Scenario[0:number_of_training_data,:,:]\n",
    "Test_Data = Scenario[number_of_training_data:,:,:]\n",
    "\n",
    "\n"
   ]
  },
  {
   "cell_type": "markdown",
   "id": "87632a13",
   "metadata": {},
   "source": [
    "## Implement Power Flow to Get Labels"
   ]
  },
  {
   "cell_type": "code",
   "execution_count": 134,
   "id": "3aad4be8",
   "metadata": {},
   "outputs": [],
   "source": [
    "Label = np.zeros((number_of_data,number_of_bus,2))\n",
    "\n",
    "for i in range(number_of_data):\n",
    "    \n",
    "    case.load.iloc[:,6:8] = Scenario[i,case.load.iloc[:,0],2:4]\n",
    "    \n",
    "    pp.runpp(case, algorithm='nr', calculate_voltage_angles='auto', init='auto',\\\n",
    "                  max_iteration='auto', tolerance_mva=1e-08, trafo_model='t',\\\n",
    "                  trafo_loading='current', enforce_q_lims=False,\\\n",
    "                  check_connectivity=True, voltage_depend_loads=True,\\\n",
    "                 consider_line_temperature=False)\n",
    "    \n",
    "    Label[i,:,:] = case.res_bus.iloc[:,0:2]\n",
    "    \n",
    "Training_Label = Label[0:number_of_training_data,:,:]\n",
    "Test_Label = Label[number_of_training_data:,:,:]\n"
   ]
  },
  {
   "cell_type": "code",
   "execution_count": 135,
   "id": "54925aa1",
   "metadata": {},
   "outputs": [
    {
     "data": {
      "text/plain": [
       "3"
      ]
     },
     "execution_count": 135,
     "metadata": {},
     "output_type": "execute_result"
    }
   ],
   "source": [
    "np.subtract(5,2)"
   ]
  },
  {
   "cell_type": "markdown",
   "id": "14f5b3eb",
   "metadata": {},
   "source": [
    "## Export Data"
   ]
  },
  {
   "cell_type": "code",
   "execution_count": 138,
   "id": "64e819c1",
   "metadata": {},
   "outputs": [],
   "source": [
    "Final_Data = pd.DataFrame(pd.Series([[Training_Data,Training_Label],[Test_Data,Test_Label]))\n",
    "\n",
    "Final_Data.to_csv(\"C:/Users/adria/OneDrive/Desktop/DataGeneration/Data.csv\")\n",
    "\n"
   ]
  },
  {
   "cell_type": "code",
   "execution_count": 139,
   "id": "03c5d710",
   "metadata": {},
   "outputs": [
    {
     "ename": "ValueError",
     "evalue": "not enough values to unpack (expected 2, got 1)",
     "output_type": "error",
     "traceback": [
      "\u001b[1;31m---------------------------------------------------------------------------\u001b[0m",
      "\u001b[1;31mValueError\u001b[0m                                Traceback (most recent call last)",
      "\u001b[1;32m~\\AppData\\Local\\Temp/ipykernel_19288/188846419.py\u001b[0m in \u001b[0;36m<module>\u001b[1;34m\u001b[0m\n\u001b[1;32m----> 1\u001b[1;33m \u001b[1;33m(\u001b[0m\u001b[0ma\u001b[0m\u001b[1;33m,\u001b[0m\u001b[0mb\u001b[0m\u001b[1;33m)\u001b[0m\u001b[1;33m,\u001b[0m\u001b[1;33m(\u001b[0m\u001b[0mc\u001b[0m\u001b[1;33m,\u001b[0m\u001b[0md\u001b[0m\u001b[1;33m)\u001b[0m \u001b[1;33m=\u001b[0m \u001b[0mFinal_Data\u001b[0m\u001b[1;33m\u001b[0m\u001b[1;33m\u001b[0m\u001b[0m\n\u001b[0m",
      "\u001b[1;31mValueError\u001b[0m: not enough values to unpack (expected 2, got 1)"
     ]
    }
   ],
   "source": [
    "(a,b),(c,d) = Final_Data"
   ]
  },
  {
   "cell_type": "code",
   "execution_count": 142,
   "id": "eb915755",
   "metadata": {},
   "outputs": [
    {
     "data": {
      "text/plain": [
       "(1999, 9, 5)"
      ]
     },
     "execution_count": 142,
     "metadata": {},
     "output_type": "execute_result"
    }
   ],
   "source": [
    "Test_Data.shape"
   ]
  },
  {
   "cell_type": "code",
   "execution_count": null,
   "id": "34dfe8fc",
   "metadata": {},
   "outputs": [],
   "source": []
  }
 ],
 "metadata": {
  "kernelspec": {
   "display_name": "Python 3 (ipykernel)",
   "language": "python",
   "name": "python3"
  },
  "language_info": {
   "codemirror_mode": {
    "name": "ipython",
    "version": 3
   },
   "file_extension": ".py",
   "mimetype": "text/x-python",
   "name": "python",
   "nbconvert_exporter": "python",
   "pygments_lexer": "ipython3",
   "version": "3.7.11"
  }
 },
 "nbformat": 4,
 "nbformat_minor": 5
}
