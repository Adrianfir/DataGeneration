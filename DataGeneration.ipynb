{
 "cells": [
  {
   "cell_type": "markdown",
   "id": "d0a5f77b",
   "metadata": {},
   "source": [
    "# Data Generation (Supervised Learning)"
   ]
  },
  {
   "cell_type": "markdown",
   "id": "e552a82d",
   "metadata": {},
   "source": [
    "## Import Packages"
   ]
  },
  {
   "cell_type": "code",
   "execution_count": 2,
   "id": "5f73f542",
   "metadata": {},
   "outputs": [],
   "source": [
    "import numpy as np\n",
    "import scipy\n",
    "from scipy.stats import norm\n",
    "import pandapower as pp\n",
    "import pandas as pd\n",
    "import pandapower.networks\n",
    "import tensorflow as tf\n",
    "import csv\n",
    "import torch"
   ]
  },
  {
   "cell_type": "markdown",
   "id": "e41f9eb5",
   "metadata": {},
   "source": [
    "## Input Data"
   ]
  },
  {
   "cell_type": "code",
   "execution_count": 35,
   "id": "4e4a3073",
   "metadata": {},
   "outputs": [],
   "source": [
    "case = pp.networks.case30()\n",
    "number_of_bus = case.bus.shape[0]\n",
    "S_base = 100\n",
    "\n",
    "### Z_base\n",
    "\n",
    "V_base = np.zeros((case.line.shape[0],1))\n",
    "for  i in range(case.line.shape[0]):\n",
    "    V_base[i,0] = case.bus.loc[case.bus.index[case.bus.loc[:,'name']==case.line.loc[i,'to_bus']],'vn_kv']\n",
    "\n",
    "Z_base = np.square(V_base)/S_base\n",
    "\n",
    "### P_Gen\n",
    "\n",
    "P_Gen = np.zeros((case.line.shape[0],1))\n",
    "for i in range(case.gen.shape[0]):\n",
    "    indices = case.line.index[case.line.loc[:,'from_bus']==case.gen.loc[i,'bus']]  \n",
    "    P_Gen[indices,0] = case.gen.loc[i,'p_mw']/S_base\n",
    "           \n",
    "### R X  PL QL PG initial_voltage initial_delta\n",
    "R = np.multiply(np.array([case.line.loc[:,'r_ohm_per_km']]),np.array([case.line.loc[:,'length_km']])).transpose()\n",
    "X = np.multiply(np.array([case.line.loc[:,'x_ohm_per_km']]),np.array([case.line.loc[:,'length_km']])).transpose()\n",
    "\n",
    "Data_form = np.hstack((np.multiply(R,1/Z_base),\\\n",
    "                       (X/Z_base)))"
   ]
  },
  {
   "cell_type": "code",
   "execution_count": 63,
   "id": "c50b2b48",
   "metadata": {},
   "outputs": [
    {
     "ename": "SyntaxError",
     "evalue": "invalid syntax (Temp/ipykernel_12652/3868878392.py, line 1)",
     "output_type": "error",
     "traceback": [
      "\u001b[1;36m  File \u001b[1;32m\"C:\\Users\\adria\\AppData\\Local\\Temp/ipykernel_12652/3868878392.py\"\u001b[1;36m, line \u001b[1;32m1\u001b[0m\n\u001b[1;33m    np.array([case.line.loc[:,'r_ohm_per_km']]) .* np.array([case.line.loc[:,'length_km']]).transpose()\u001b[0m\n\u001b[1;37m                                                 ^\u001b[0m\n\u001b[1;31mSyntaxError\u001b[0m\u001b[1;31m:\u001b[0m invalid syntax\n"
     ]
    }
   ],
   "source": [
    "np.array([case.line.loc[:,'r_ohm_per_km']]) * np.array([case.line.loc[:,'length_km']]).transpose()"
   ]
  },
  {
   "cell_type": "code",
   "execution_count": 67,
   "id": "49b80342",
   "metadata": {},
   "outputs": [
    {
     "data": {
      "text/plain": [
       "array([[0.00548697],\n",
       "       [0.00548697],\n",
       "       [0.00548697],\n",
       "       [0.00548697],\n",
       "       [0.00548697],\n",
       "       [0.00548697],\n",
       "       [0.00548697],\n",
       "       [0.00548697],\n",
       "       [0.00548697],\n",
       "       [0.00548697],\n",
       "       [0.00548697],\n",
       "       [0.00548697],\n",
       "       [0.00548697],\n",
       "       [0.00548697],\n",
       "       [0.00548697],\n",
       "       [0.00548697],\n",
       "       [0.00548697],\n",
       "       [0.00548697],\n",
       "       [0.00548697],\n",
       "       [0.00548697],\n",
       "       [0.00548697],\n",
       "       [0.00548697],\n",
       "       [0.00548697],\n",
       "       [0.00548697],\n",
       "       [0.00548697],\n",
       "       [0.00548697],\n",
       "       [0.00548697],\n",
       "       [0.00548697],\n",
       "       [0.00548697],\n",
       "       [0.00548697],\n",
       "       [0.00548697],\n",
       "       [0.00548697],\n",
       "       [0.00548697],\n",
       "       [0.00548697],\n",
       "       [0.00548697],\n",
       "       [0.00548697],\n",
       "       [0.00548697],\n",
       "       [0.00548697],\n",
       "       [0.00548697],\n",
       "       [0.00548697],\n",
       "       [0.00548697]])"
      ]
     },
     "execution_count": 67,
     "metadata": {},
     "output_type": "execute_result"
    }
   ],
   "source": [
    "1/Z_base"
   ]
  },
  {
   "cell_type": "markdown",
   "id": "e42d984d",
   "metadata": {},
   "source": [
    "## Roulette Wheel Algorithm Using Normal-PDF to Generate Scenarios"
   ]
  },
  {
   "cell_type": "code",
   "execution_count": 8,
   "id": "57212f1a",
   "metadata": {},
   "outputs": [],
   "source": [
    "number_of_data = 10000       # Including data for both Training and Testing\n",
    "\n",
    "Scenario = np.zeros([number_of_data,Data_form.shape[0],Data_form.shape[1]])\n",
    "\n",
    "for i in range(number_of_data):\n",
    "    \n",
    "    Scenario[i,:,:] = Data_form\n",
    "    Scenario[i,load_bus_number,2:4] = norm.ppf(np.random.rand(load.shape[0],1),\\\n",
    "                                                              load,np.multiply(0.1,load))\n",
    "\n",
    "Training_Data = Scenario[0:number_of_training_data,:,:]\n",
    "Test_Data = Scenario[number_of_training_data:,:,:]"
   ]
  },
  {
   "cell_type": "markdown",
   "id": "87632a13",
   "metadata": {},
   "source": [
    "## Implement Power Flow to Get Labels"
   ]
  },
  {
   "cell_type": "code",
   "execution_count": 9,
   "id": "3aad4be8",
   "metadata": {},
   "outputs": [],
   "source": [
    "Label = np.zeros((number_of_data,number_of_bus,2))\n",
    "\n",
    "for i in range(number_of_data):\n",
    "    \n",
    "    case.load.iloc[:,6:8] = Scenario[i,case.load.iloc[:,0],2:4]\n",
    "    \n",
    "    pp.runpp(case, algorithm='nr', calculate_voltage_angles='auto', init='auto',\\\n",
    "                  max_iteration='auto', tolerance_mva=1e-08, trafo_model='t',\\\n",
    "                  trafo_loading='current', enforce_q_lims=False,\\\n",
    "                  check_connectivity=True, voltage_depend_loads=True,\\\n",
    "                 consider_line_temperature=False)\n",
    "    \n",
    "    Label[i,:,:] = case.res_bus.iloc[:,0:2]\n",
    "    \n",
    "Training_Label = Label[0:number_of_training_data,:,:]\n",
    "Test_Label = Label[number_of_training_data:,:,:]\n"
   ]
  },
  {
   "cell_type": "markdown",
   "id": "780b056b",
   "metadata": {},
   "source": [
    "## Exporting Data to CSV files"
   ]
  },
  {
   "cell_type": "code",
   "execution_count": 10,
   "id": "0c1d48f9",
   "metadata": {},
   "outputs": [],
   "source": [
    "Final_Training_Data = pd.DataFrame(Training_Data.reshape(number_of_training_data,-1))\n",
    "Final_Training_Label  = pd.DataFrame(Training_Label.reshape(number_of_training_data,-1))\n",
    "Final_Training_Data.to_csv(\"C:/Users/adria/OneDrive/Desktop/DataGeneration/train_data_30bus.csv\",index = False)\n",
    "Final_Training_Label.to_csv(\"C:/Users/adria/OneDrive/Desktop/DataGeneration/train_label_30bus.csv\",index = False)\n",
    "\n",
    "Final_Test_Data   = pd.DataFrame(Test_Data.reshape(number_of_test_data,-1))\n",
    "Final_Test_Label  = pd.DataFrame(Test_Label.reshape(number_of_test_data,-1))\n",
    "Final_Test_Data.to_csv(\"C:/Users/adria/OneDrive/Desktop/DataGeneration/test_data_30bus.csv\",index = False)\n",
    "Final_Test_Label.to_csv(\"C:/Users/adria/OneDrive/Desktop/DataGeneration/test_label_30bus.csv\",index = False)\n",
    "\n",
    "\n"
   ]
  },
  {
   "cell_type": "code",
   "execution_count": null,
   "id": "6ece7dcd",
   "metadata": {},
   "outputs": [],
   "source": []
  }
 ],
 "metadata": {
  "kernelspec": {
   "display_name": "Python 3 (ipykernel)",
   "language": "python",
   "name": "python3"
  },
  "language_info": {
   "codemirror_mode": {
    "name": "ipython",
    "version": 3
   },
   "file_extension": ".py",
   "mimetype": "text/x-python",
   "name": "python",
   "nbconvert_exporter": "python",
   "pygments_lexer": "ipython3",
   "version": "3.7.11"
  }
 },
 "nbformat": 4,
 "nbformat_minor": 5
}
