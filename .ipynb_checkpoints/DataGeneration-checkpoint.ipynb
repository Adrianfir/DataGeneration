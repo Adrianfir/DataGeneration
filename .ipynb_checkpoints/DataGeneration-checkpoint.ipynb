{
 "cells": [
  {
   "cell_type": "markdown",
   "id": "d0a5f77b",
   "metadata": {},
   "source": [
    "# Data Generation"
   ]
  },
  {
   "cell_type": "markdown",
   "id": "e552a82d",
   "metadata": {},
   "source": [
    "## Import Packages"
   ]
  },
  {
   "cell_type": "code",
   "execution_count": 2,
   "id": "5f73f542",
   "metadata": {},
   "outputs": [],
   "source": [
    "import numpy as np\n",
    "import scipy\n",
    "from scipy.stats import norm\n",
    "import pandapower as pp\n",
    "import pandas as pd\n",
    "import pandapower.networks\n",
    "import tensorflow as tf"
   ]
  },
  {
   "cell_type": "markdown",
   "id": "e41f9eb5",
   "metadata": {},
   "source": [
    "## Input Data"
   ]
  },
  {
   "cell_type": "code",
   "execution_count": 3,
   "id": "aecc4013",
   "metadata": {},
   "outputs": [],
   "source": [
    "case = pp.networks.case9()\n",
    "number_of_bus = case.bus.shape[0]\n",
    "baseMVA = 100\n",
    "number_of_data = 2000\n",
    "\n",
    "load = case.load.iloc[:,6:8]\n",
    "load_bus_number = case.load.iloc[:,0]\n",
    "\n",
    "Pgenerators = np.zeros((number_of_bus,1))\n",
    "Pgenerators[case.gen.iloc[:,0],0] = -case.gen.iloc[:,4]/baseMVA\n",
    "\n",
    "PQload = np.zeros((number_of_bus,2))\n",
    "PQload[case.load.iloc[:,0],:] = case.load.iloc[:,6:8]/baseMVA\n",
    "\n",
    "\n",
    "\n",
    "### NB FB TB R X PL QL PG\n",
    "\n",
    "Data_form = np.hstack(((np.array(case.bus_geodata.iloc[:,0:2])),\\\n",
    "                       PQload,Pgenerators))"
   ]
  },
  {
   "cell_type": "markdown",
   "id": "e42d984d",
   "metadata": {},
   "source": [
    "## Roulette Wheel Algorithm Using Normal-PDF to Generate Scenarios"
   ]
  },
  {
   "cell_type": "code",
   "execution_count": 28,
   "id": "57212f1a",
   "metadata": {},
   "outputs": [],
   "source": [
    "Scenario = np.zeros([number_of_data,Data_form.shape[0],Data_form.shape[1]])\n",
    "\n",
    "for i in range(number_of_data):\n",
    "    \n",
    "    Scenario[i,:,:] = Data_form\n",
    "    Scenario[i,load_bus_number,2:4] = norm.ppf(np.random.rand(load.shape[0],1),\\\n",
    "                                                              load,np.multiply(0.1,load))\n",
    "    "
   ]
  },
  {
   "cell_type": "markdown",
   "id": "f851826e",
   "metadata": {},
   "source": [
    "## Implement Power Flow to et Labels"
   ]
  },
  {
   "cell_type": "code",
   "execution_count": 37,
   "id": "7025c3cf",
   "metadata": {},
   "outputs": [
    {
     "name": "stderr",
     "output_type": "stream",
     "text": [
      "numba cannot be imported and numba functions are disabled.\n",
      "Probably the execution is slow.\n",
      "Please install numba to gain a massive speedup.\n",
      "(or if you prefer slow execution, set the flag numba=False to avoid this warning!)\n",
      "\n"
     ]
    }
   ],
   "source": [
    "pp.runpp(case)"
   ]
  },
  {
   "cell_type": "code",
   "execution_count": null,
   "id": "f4b63180",
   "metadata": {},
   "outputs": [],
   "source": []
  }
 ],
 "metadata": {
  "kernelspec": {
   "display_name": "Python 3 (ipykernel)",
   "language": "python",
   "name": "python3"
  },
  "language_info": {
   "codemirror_mode": {
    "name": "ipython",
    "version": 3
   },
   "file_extension": ".py",
   "mimetype": "text/x-python",
   "name": "python",
   "nbconvert_exporter": "python",
   "pygments_lexer": "ipython3",
   "version": "3.7.11"
  }
 },
 "nbformat": 4,
 "nbformat_minor": 5
}
